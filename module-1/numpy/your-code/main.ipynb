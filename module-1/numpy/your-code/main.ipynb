{
 "cells": [
  {
   "cell_type": "markdown",
   "metadata": {},
   "source": [
    "# Introduction to NumPy\n",
    "\n",
    "\n",
    "#### 1. Import NumPy under the name np."
   ]
  },
  {
   "cell_type": "code",
   "execution_count": 1,
   "metadata": {},
   "outputs": [],
   "source": [
    "import numpy as np"
   ]
  },
  {
   "cell_type": "markdown",
   "metadata": {},
   "source": [
    "#### 2. Print your NumPy version."
   ]
  },
  {
   "cell_type": "code",
   "execution_count": 2,
   "metadata": {},
   "outputs": [
    {
     "name": "stdout",
     "output_type": "stream",
     "text": [
      "1.18.1\n"
     ]
    }
   ],
   "source": [
    "print(np.__version__)"
   ]
  },
  {
   "cell_type": "markdown",
   "metadata": {},
   "source": [
    "#### 3. Generate a 2x3x5 3-dimensional array with random values. Assign the array to variable *a*.\n",
    "**Challenge**: there are at least three easy ways that use numpy to generate random arrays. How many ways can you find?"
   ]
  },
  {
   "cell_type": "code",
   "execution_count": 3,
   "metadata": {},
   "outputs": [
    {
     "name": "stdout",
     "output_type": "stream",
     "text": [
      "[[[0.49872344 0.4999289  0.88704525 0.272882   0.62096164]\n",
      "  [0.4441639  0.84474384 0.94756832 0.69398859 0.32271014]\n",
      "  [0.6784195  0.49718946 0.14776589 0.74146683 0.73452772]]\n",
      "\n",
      " [[0.87092333 0.1240663  0.47914171 0.53735191 0.19294705]\n",
      "  [0.0384297  0.92713102 0.30697384 0.15228882 0.47707781]\n",
      "  [0.43144264 0.80904408 0.3656515  0.38480054 0.27002107]]]\n"
     ]
    }
   ],
   "source": [
    "# Method 2\n",
    "a = np.random.random((2,3,5))\n",
    "print(a)"
   ]
  },
  {
   "cell_type": "code",
   "execution_count": 4,
   "metadata": {},
   "outputs": [
    {
     "name": "stdout",
     "output_type": "stream",
     "text": [
      "[[[0.49872344 0.4999289  0.88704525 0.272882   0.62096164]\n",
      "  [0.4441639  0.84474384 0.94756832 0.69398859 0.32271014]\n",
      "  [0.6784195  0.49718946 0.14776589 0.74146683 0.73452772]]\n",
      "\n",
      " [[0.87092333 0.1240663  0.47914171 0.53735191 0.19294705]\n",
      "  [0.0384297  0.92713102 0.30697384 0.15228882 0.47707781]\n",
      "  [0.43144264 0.80904408 0.3656515  0.38480054 0.27002107]]]\n"
     ]
    }
   ],
   "source": [
    "# Method 2\n",
    "b = np.empty((2,3,5))\n",
    "print(b)"
   ]
  },
  {
   "cell_type": "code",
   "execution_count": 5,
   "metadata": {},
   "outputs": [
    {
     "data": {
      "text/plain": [
       "array([[[ 4, 12, 14,  4, 19],\n",
       "        [ 0, 12, 18, 14, 10],\n",
       "        [15, 12, 10,  4, 11]],\n",
       "\n",
       "       [[11,  0, 15,  0,  7],\n",
       "        [ 5,  8, 10, 11,  5],\n",
       "        [17, 16,  6, 10, 11]]])"
      ]
     },
     "execution_count": 5,
     "metadata": {},
     "output_type": "execute_result"
    }
   ],
   "source": [
    "# Method 3\n",
    "e = np.arange(20)\n",
    "np.random.choice(e, (2,3,5))"
   ]
  },
  {
   "cell_type": "markdown",
   "metadata": {},
   "source": [
    "#### 4. Print *a*.\n"
   ]
  },
  {
   "cell_type": "code",
   "execution_count": 6,
   "metadata": {},
   "outputs": [
    {
     "name": "stdout",
     "output_type": "stream",
     "text": [
      "[[[0.49872344 0.4999289  0.88704525 0.272882   0.62096164]\n",
      "  [0.4441639  0.84474384 0.94756832 0.69398859 0.32271014]\n",
      "  [0.6784195  0.49718946 0.14776589 0.74146683 0.73452772]]\n",
      "\n",
      " [[0.87092333 0.1240663  0.47914171 0.53735191 0.19294705]\n",
      "  [0.0384297  0.92713102 0.30697384 0.15228882 0.47707781]\n",
      "  [0.43144264 0.80904408 0.3656515  0.38480054 0.27002107]]]\n"
     ]
    }
   ],
   "source": [
    "print(a)"
   ]
  },
  {
   "cell_type": "markdown",
   "metadata": {},
   "source": [
    "#### 5. Create a 5x2x3 3-dimensional array with all values equaling 1. Assign the array to variable *b*."
   ]
  },
  {
   "cell_type": "code",
   "execution_count": 7,
   "metadata": {},
   "outputs": [],
   "source": [
    "b = np.ones((5,2,3))"
   ]
  },
  {
   "cell_type": "markdown",
   "metadata": {},
   "source": [
    "#### 6. Print *b*.\n"
   ]
  },
  {
   "cell_type": "code",
   "execution_count": 8,
   "metadata": {},
   "outputs": [
    {
     "name": "stdout",
     "output_type": "stream",
     "text": [
      "[[[1. 1. 1.]\n",
      "  [1. 1. 1.]]\n",
      "\n",
      " [[1. 1. 1.]\n",
      "  [1. 1. 1.]]\n",
      "\n",
      " [[1. 1. 1.]\n",
      "  [1. 1. 1.]]\n",
      "\n",
      " [[1. 1. 1.]\n",
      "  [1. 1. 1.]]\n",
      "\n",
      " [[1. 1. 1.]\n",
      "  [1. 1. 1.]]]\n"
     ]
    }
   ],
   "source": [
    "print(b)"
   ]
  },
  {
   "cell_type": "markdown",
   "metadata": {},
   "source": [
    "#### 7. Do *a* and *b* have the same size? How do you prove that in Python code?"
   ]
  },
  {
   "cell_type": "code",
   "execution_count": 9,
   "metadata": {},
   "outputs": [
    {
     "name": "stdout",
     "output_type": "stream",
     "text": [
      "2\n",
      "5\n",
      "30\n",
      "30\n",
      "(2, 3, 5)\n",
      "(5, 2, 3)\n"
     ]
    }
   ],
   "source": [
    "print(len(a))\n",
    "print(len(b))\n",
    "print(a.size)\n",
    "print(b.size)\n",
    "print(a.shape)\n",
    "print(b.shape)"
   ]
  },
  {
   "cell_type": "code",
   "execution_count": 10,
   "metadata": {},
   "outputs": [
    {
     "name": "stdout",
     "output_type": "stream",
     "text": [
      "True\n"
     ]
    }
   ],
   "source": [
    "if a.size == b.size:\n",
    "    print(True)\n",
    "else:\n",
    "    print(False)"
   ]
  },
  {
   "cell_type": "markdown",
   "metadata": {},
   "source": [
    "#### 8. Are you able to add *a* and *b*? Why or why not?\n"
   ]
  },
  {
   "cell_type": "code",
   "execution_count": 11,
   "metadata": {},
   "outputs": [
    {
     "name": "stdout",
     "output_type": "stream",
     "text": [
      "It not possible to add elements with differents shape\n"
     ]
    }
   ],
   "source": [
    "try:\n",
    "    np.add(a,b)\n",
    "except ValueError:\n",
    "    print(\"It not possible to add elements with differents shape\")"
   ]
  },
  {
   "cell_type": "markdown",
   "metadata": {},
   "source": [
    "#### 9. Transpose *b* so that it has the same structure of *a* (i.e. become a 2x3x5 array). Assign the transposed array to variable *c*."
   ]
  },
  {
   "cell_type": "code",
   "execution_count": 12,
   "metadata": {},
   "outputs": [
    {
     "name": "stdout",
     "output_type": "stream",
     "text": [
      "(2, 3, 5)\n",
      "[[[1. 1. 1. 1. 1.]\n",
      "  [1. 1. 1. 1. 1.]\n",
      "  [1. 1. 1. 1. 1.]]\n",
      "\n",
      " [[1. 1. 1. 1. 1.]\n",
      "  [1. 1. 1. 1. 1.]\n",
      "  [1. 1. 1. 1. 1.]]]\n"
     ]
    }
   ],
   "source": [
    "c = np.transpose(b, (1, 2, 0))\n",
    "print(c.shape)\n",
    "print(c)"
   ]
  },
  {
   "cell_type": "markdown",
   "metadata": {},
   "source": [
    "#### 10. Try to add *a* and *c*. Now it should work. Assign the sum to variable *d*. But why does it work now?"
   ]
  },
  {
   "cell_type": "code",
   "execution_count": 13,
   "metadata": {},
   "outputs": [
    {
     "name": "stdout",
     "output_type": "stream",
     "text": [
      "True\n"
     ]
    }
   ],
   "source": [
    "# your code/answer here\n",
    "d = np.add(a,c)\n",
    "print(a.shape == c.shape)"
   ]
  },
  {
   "cell_type": "markdown",
   "metadata": {},
   "source": [
    "#### 11. Print *a* and *d*. Notice the difference and relation of the two array in terms of the values? Explain."
   ]
  },
  {
   "cell_type": "code",
   "execution_count": 14,
   "metadata": {},
   "outputs": [
    {
     "name": "stdout",
     "output_type": "stream",
     "text": [
      "[[[0.49872344 0.4999289  0.88704525 0.272882   0.62096164]\n",
      "  [0.4441639  0.84474384 0.94756832 0.69398859 0.32271014]\n",
      "  [0.6784195  0.49718946 0.14776589 0.74146683 0.73452772]]\n",
      "\n",
      " [[0.87092333 0.1240663  0.47914171 0.53735191 0.19294705]\n",
      "  [0.0384297  0.92713102 0.30697384 0.15228882 0.47707781]\n",
      "  [0.43144264 0.80904408 0.3656515  0.38480054 0.27002107]]]\n",
      "[[[1.49872344 1.4999289  1.88704525 1.272882   1.62096164]\n",
      "  [1.4441639  1.84474384 1.94756832 1.69398859 1.32271014]\n",
      "  [1.6784195  1.49718946 1.14776589 1.74146683 1.73452772]]\n",
      "\n",
      " [[1.87092333 1.1240663  1.47914171 1.53735191 1.19294705]\n",
      "  [1.0384297  1.92713102 1.30697384 1.15228882 1.47707781]\n",
      "  [1.43144264 1.80904408 1.3656515  1.38480054 1.27002107]]]\n",
      " We are adding 1.0 to each value\n"
     ]
    }
   ],
   "source": [
    "print(a)\n",
    "print(d)\n",
    "\n",
    "print(\" We are adding 1.0 to each value\")"
   ]
  },
  {
   "cell_type": "markdown",
   "metadata": {},
   "source": [
    "#### 12. Multiply *a* and *c*. Assign the result to *e*."
   ]
  },
  {
   "cell_type": "code",
   "execution_count": 15,
   "metadata": {},
   "outputs": [
    {
     "name": "stdout",
     "output_type": "stream",
     "text": [
      "[[[0.49872344 0.4999289  0.88704525 0.272882   0.62096164]\n",
      "  [0.4441639  0.84474384 0.94756832 0.69398859 0.32271014]\n",
      "  [0.6784195  0.49718946 0.14776589 0.74146683 0.73452772]]\n",
      "\n",
      " [[0.87092333 0.1240663  0.47914171 0.53735191 0.19294705]\n",
      "  [0.0384297  0.92713102 0.30697384 0.15228882 0.47707781]\n",
      "  [0.43144264 0.80904408 0.3656515  0.38480054 0.27002107]]]\n"
     ]
    }
   ],
   "source": [
    "e = np.multiply(a,c)\n",
    "print(e)"
   ]
  },
  {
   "cell_type": "markdown",
   "metadata": {},
   "source": [
    "#### 13. Does *e* equal to *a*? Why or why not?\n"
   ]
  },
  {
   "cell_type": "code",
   "execution_count": 16,
   "metadata": {},
   "outputs": [
    {
     "data": {
      "text/plain": [
       "True"
      ]
     },
     "execution_count": 16,
     "metadata": {},
     "output_type": "execute_result"
    }
   ],
   "source": [
    "np.array_equal(e,a)"
   ]
  },
  {
   "cell_type": "markdown",
   "metadata": {},
   "source": [
    "#### 14. Identify the max, min, and mean values in *d*. Assign those values to variables *d_max*, *d_min* and *d_mean*."
   ]
  },
  {
   "cell_type": "code",
   "execution_count": 17,
   "metadata": {},
   "outputs": [
    {
     "name": "stdout",
     "output_type": "stream",
     "text": [
      "1.9475683213493968\n",
      "1.038429698664612\n",
      "1.5066458922200683\n"
     ]
    }
   ],
   "source": [
    "d_max = np.max(d)\n",
    "d_min = np.min(d)\n",
    "d_mean = np.mean(d)\n",
    "\n",
    "print(d_max)\n",
    "print(d_min)\n",
    "print(d_mean)"
   ]
  },
  {
   "cell_type": "markdown",
   "metadata": {},
   "source": [
    "#### 15. Now we want to label the values in *d*. First create an empty array *f* with the same shape (i.e. 2x3x5) as *d* using `np.empty`.\n"
   ]
  },
  {
   "cell_type": "code",
   "execution_count": 18,
   "metadata": {},
   "outputs": [
    {
     "name": "stdout",
     "output_type": "stream",
     "text": [
      "[[[0.49872344 0.4999289  0.88704525 0.272882   0.62096164]\n",
      "  [0.4441639  0.84474384 0.94756832 0.69398859 0.32271014]\n",
      "  [0.6784195  0.49718946 0.14776589 0.74146683 0.73452772]]\n",
      "\n",
      " [[0.87092333 0.1240663  0.47914171 0.53735191 0.19294705]\n",
      "  [0.0384297  0.92713102 0.30697384 0.15228882 0.47707781]\n",
      "  [0.43144264 0.80904408 0.3656515  0.38480054 0.27002107]]]\n"
     ]
    },
    {
     "data": {
      "text/plain": [
       "numpy.ndarray"
      ]
     },
     "execution_count": 18,
     "metadata": {},
     "output_type": "execute_result"
    }
   ],
   "source": [
    "f = np.empty((2,3,5))\n",
    "print(f)\n",
    "type(f)"
   ]
  },
  {
   "cell_type": "markdown",
   "metadata": {},
   "source": [
    "#### 16. Populate the values in *f*. \n",
    "\n",
    "For each value in *d*, if it's larger than *d_min* but smaller than *d_mean*, assign 25 to the corresponding value in *f*. If a value in *d* is larger than *d_mean* but smaller than *d_max*, assign 75 to the corresponding value in *f*. If a value equals to *d_mean*, assign 50 to the corresponding value in *f*. Assign 0 to the corresponding value(s) in *f* for *d_min* in *d*. Assign 100 to the corresponding value(s) in *f* for *d_max* in *d*. In the end, f should have only the following values: 0, 25, 50, 75, and 100.\n",
    "\n",
    "**Note**: you don't have to use Numpy in this question."
   ]
  },
  {
   "cell_type": "code",
   "execution_count": 19,
   "metadata": {},
   "outputs": [
    {
     "name": "stdout",
     "output_type": "stream",
     "text": [
      "[[[ 25.  25.  75.  25.  75.]\n",
      "  [ 25.  75. 100.  75.  25.]\n",
      "  [ 75.  25.  25.  75.  75.]]\n",
      "\n",
      " [[ 75.  25.  25.  75.  25.]\n",
      "  [  0.  75.  25.  25.  25.]\n",
      "  [ 25.  75.  25.  25.  25.]]]\n"
     ]
    },
    {
     "data": {
      "text/plain": [
       "numpy.ndarray"
      ]
     },
     "execution_count": 19,
     "metadata": {},
     "output_type": "execute_result"
    }
   ],
   "source": [
    "# your code here\n",
    "shape_d = d.shape\n",
    "for x in range(shape_d[0]):\n",
    "    for y in range(shape_d[1]):\n",
    "        for z in range(shape_d[2]):\n",
    "            if d[x][y][z] == d_min:\n",
    "                f[x][y][z] = 0\n",
    "            elif d[x][y][z] < d_mean:\n",
    "                f[x][y][z] = 25\n",
    "            elif d[x][y][z] == d_mean:\n",
    "                 f[x][y][z] = 50\n",
    "            elif d[x][y][z] < d_max:\n",
    "                 f[x][y][z] = 75\n",
    "            else:\n",
    "                 f[x][y][z] = 100\n",
    "print(f)\n",
    "type(f)"
   ]
  },
  {
   "cell_type": "markdown",
   "metadata": {},
   "source": [
    "#### 17. Print *d* and *f*. Do you have your expected *f*?\n",
    "For instance, if your *d* is:\n",
    "```python\n",
    "[[[1.85836099, 1.67064465, 1.62576044, 1.40243961, 1.88454931],\n",
    "[1.75354326, 1.69403643, 1.36729252, 1.61415071, 1.12104981],\n",
    "[1.72201435, 1.1862918 , 1.87078449, 1.7726778 , 1.88180042]],\n",
    "[[1.44747908, 1.31673383, 1.02000951, 1.52218947, 1.97066381],\n",
    "[1.79129243, 1.74983003, 1.96028037, 1.85166831, 1.65450881],\n",
    "[1.18068344, 1.9587381 , 1.00656599, 1.93402165, 1.73514584]]]\n",
    "```\n",
    "Your *f* should be:\n",
    "```python\n",
    "[[[ 75.,  75.,  75.,  25.,  75.],\n",
    "[ 75.,  75.,  25.,  25.,  25.],\n",
    "[ 75.,  25.,  75.,  75.,  75.]],\n",
    "[[ 25.,  25.,  25.,  25., 100.],\n",
    "[ 75.,  75.,  75.,  75.,  75.],\n",
    "[ 25.,  75.,   0.,  75.,  75.]]]\n",
    "```"
   ]
  },
  {
   "cell_type": "code",
   "execution_count": 20,
   "metadata": {},
   "outputs": [
    {
     "name": "stdout",
     "output_type": "stream",
     "text": [
      "[[[1.49872344 1.4999289  1.88704525 1.272882   1.62096164]\n",
      "  [1.4441639  1.84474384 1.94756832 1.69398859 1.32271014]\n",
      "  [1.6784195  1.49718946 1.14776589 1.74146683 1.73452772]]\n",
      "\n",
      " [[1.87092333 1.1240663  1.47914171 1.53735191 1.19294705]\n",
      "  [1.0384297  1.92713102 1.30697384 1.15228882 1.47707781]\n",
      "  [1.43144264 1.80904408 1.3656515  1.38480054 1.27002107]]]\n",
      "[[[ 25.  25.  75.  25.  75.]\n",
      "  [ 25.  75. 100.  75.  25.]\n",
      "  [ 75.  25.  25.  75.  75.]]\n",
      "\n",
      " [[ 75.  25.  25.  75.  25.]\n",
      "  [  0.  75.  25.  25.  25.]\n",
      "  [ 25.  75.  25.  25.  25.]]]\n"
     ]
    }
   ],
   "source": [
    "print(d)\n",
    "print(f)"
   ]
  },
  {
   "cell_type": "markdown",
   "metadata": {},
   "source": [
    "#### 18. Bonus question: instead of using numbers (i.e. 0, 25, 50, 75, and 100), use string values  (\"A\", \"B\", \"C\", \"D\", and \"E\") to label the array elements. For the example above, the expected result is:\n",
    "\n",
    "```python\n",
    "[[[ 'D',  'D',  'D',  'B',  'D'],\n",
    "[ 'D',  'D',  'B',  'B',  'B'],\n",
    "[ 'D',  'B',  'D',  'D',  'D']],\n",
    "[[ 'B',  'B',  'B',  'B',  'E'],\n",
    "[ 'D',  'D',  'D',  'D',  'D'],\n",
    "[ 'B',  'D',   'A',  'D', 'D']]]\n",
    "```\n",
    "**Note**: you don't have to use Numpy in this question."
   ]
  },
  {
   "cell_type": "code",
   "execution_count": 34,
   "metadata": {},
   "outputs": [
    {
     "name": "stdout",
     "output_type": "stream",
     "text": [
      "I made many attemps, but it didn't work, finally i found a solution in stackoverflow but i don't fully understand it\n",
      "<class 'numpy.ndarray'>\n"
     ]
    },
    {
     "ename": "TypeError",
     "evalue": "unhashable type: 'numpy.ndarray'",
     "output_type": "error",
     "traceback": [
      "\u001b[0;31m---------------------------------------------------------------------------\u001b[0m",
      "\u001b[0;31mTypeError\u001b[0m                                 Traceback (most recent call last)",
      "\u001b[0;32m<ipython-input-34-9849359d8293>\u001b[0m in \u001b[0;36m<module>\u001b[0;34m\u001b[0m\n\u001b[1;32m      4\u001b[0m     \u001b[0mprint\u001b[0m\u001b[0;34m(\u001b[0m\u001b[0mtype\u001b[0m\u001b[0;34m(\u001b[0m\u001b[0mitem\u001b[0m\u001b[0;34m)\u001b[0m\u001b[0;34m)\u001b[0m\u001b[0;34m\u001b[0m\u001b[0;34m\u001b[0m\u001b[0m\n\u001b[1;32m      5\u001b[0m     \u001b[0;32mreturn\u001b[0m \u001b[0mlabel_dict\u001b[0m\u001b[0;34m[\u001b[0m\u001b[0mitem\u001b[0m\u001b[0;34m]\u001b[0m\u001b[0;34m\u001b[0m\u001b[0;34m\u001b[0m\u001b[0m\n\u001b[0;32m----> 6\u001b[0;31m \u001b[0mlabel_mapping\u001b[0m\u001b[0;34m(\u001b[0m\u001b[0mf\u001b[0m\u001b[0;34m)\u001b[0m\u001b[0;34m\u001b[0m\u001b[0;34m\u001b[0m\u001b[0m\n\u001b[0m\u001b[1;32m      7\u001b[0m \u001b[0;31m#list(map(lambda item: label_dict[item], f))\u001b[0m\u001b[0;34m\u001b[0m\u001b[0;34m\u001b[0m\u001b[0;34m\u001b[0m\u001b[0m\n\u001b[1;32m      8\u001b[0m \u001b[0;34m\u001b[0m\u001b[0m\n",
      "\u001b[0;32m<ipython-input-34-9849359d8293>\u001b[0m in \u001b[0;36mlabel_mapping\u001b[0;34m(item)\u001b[0m\n\u001b[1;32m      3\u001b[0m \u001b[0;32mdef\u001b[0m \u001b[0mlabel_mapping\u001b[0m\u001b[0;34m(\u001b[0m\u001b[0mitem\u001b[0m\u001b[0;34m)\u001b[0m\u001b[0;34m:\u001b[0m\u001b[0;34m\u001b[0m\u001b[0;34m\u001b[0m\u001b[0m\n\u001b[1;32m      4\u001b[0m     \u001b[0mprint\u001b[0m\u001b[0;34m(\u001b[0m\u001b[0mtype\u001b[0m\u001b[0;34m(\u001b[0m\u001b[0mitem\u001b[0m\u001b[0;34m)\u001b[0m\u001b[0;34m)\u001b[0m\u001b[0;34m\u001b[0m\u001b[0;34m\u001b[0m\u001b[0m\n\u001b[0;32m----> 5\u001b[0;31m     \u001b[0;32mreturn\u001b[0m \u001b[0mlabel_dict\u001b[0m\u001b[0;34m[\u001b[0m\u001b[0mitem\u001b[0m\u001b[0;34m]\u001b[0m\u001b[0;34m\u001b[0m\u001b[0;34m\u001b[0m\u001b[0m\n\u001b[0m\u001b[1;32m      6\u001b[0m \u001b[0mlabel_mapping\u001b[0m\u001b[0;34m(\u001b[0m\u001b[0mf\u001b[0m\u001b[0;34m)\u001b[0m\u001b[0;34m\u001b[0m\u001b[0;34m\u001b[0m\u001b[0m\n\u001b[1;32m      7\u001b[0m \u001b[0;31m#list(map(lambda item: label_dict[item], f))\u001b[0m\u001b[0;34m\u001b[0m\u001b[0;34m\u001b[0m\u001b[0;34m\u001b[0m\u001b[0m\n",
      "\u001b[0;31mTypeError\u001b[0m: unhashable type: 'numpy.ndarray'"
     ]
    }
   ],
   "source": [
    "print(\"I made many attemps, but it didn't work, finally i found a solution in stackoverflow but i don't fully understand it\")\n",
    "label_dict = {0:'A', 25:'B', 50:'C', 75:'D', 100:'E'}\n",
    "def label_mapping(item):\n",
    "    print(type(item))\n",
    "    return label_dict[item]\n",
    "label_mapping(f)\n",
    "#list(map(lambda item: label_dict[item], f))\n",
    "\n"
   ]
  },
  {
   "cell_type": "code",
   "execution_count": 30,
   "metadata": {},
   "outputs": [
    {
     "data": {
      "text/plain": [
       "array([[['B', 'B', 'D', 'B', 'D'],\n",
       "        ['B', 'D', 'E', 'D', 'B'],\n",
       "        ['D', 'B', 'B', 'D', 'D']],\n",
       "\n",
       "       [['D', 'B', 'B', 'D', 'B'],\n",
       "        ['A', 'D', 'B', 'B', 'B'],\n",
       "        ['B', 'D', 'B', 'B', 'B']]], dtype='<U1')"
      ]
     },
     "execution_count": 30,
     "metadata": {},
     "output_type": "execute_result"
    }
   ],
   "source": [
    "np.vectorize(label_dict.get)(f)"
   ]
  }
 ],
 "metadata": {
  "kernelspec": {
   "display_name": "Python [conda env:ironhack_data]",
   "language": "python",
   "name": "conda-env-ironhack_data-py"
  },
  "language_info": {
   "codemirror_mode": {
    "name": "ipython",
    "version": 3
   },
   "file_extension": ".py",
   "mimetype": "text/x-python",
   "name": "python",
   "nbconvert_exporter": "python",
   "pygments_lexer": "ipython3",
   "version": "3.7.7"
  }
 },
 "nbformat": 4,
 "nbformat_minor": 2
}
