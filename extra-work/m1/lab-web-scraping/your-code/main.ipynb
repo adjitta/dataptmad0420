{
 "cells": [
  {
   "cell_type": "markdown",
   "metadata": {},
   "source": [
    "# Web Scraping Lab\n",
    "\n",
    "You will find in this notebook some scrapy exercises to practise your scraping skills.\n",
    "\n",
    "**Tips:**\n",
    "\n",
    "- Check the response status code for each request to ensure you have obtained the intended content.\n",
    "- Print the response text in each request to understand the kind of info you are getting and its format.\n",
    "- Check for patterns in the response text to extract the data/info requested in each question.\n",
    "- Visit the urls below and take a look at their source code through Chrome DevTools. You'll need to identify the html tags, special class names, etc used in the html content you are expected to extract.\n",
    "\n",
    "**Resources**:\n",
    "- [Requests library](http://docs.python-requests.org/en/master/#the-user-guide)\n",
    "- [Beautiful Soup Doc](https://www.crummy.com/software/BeautifulSoup/bs4/doc/)\n",
    "- [Urllib](https://docs.python.org/3/library/urllib.html#module-urllib)\n",
    "- [re lib](https://docs.python.org/3/library/re.html)\n",
    "- [lxml lib](https://lxml.de/)\n",
    "- [Scrapy](https://scrapy.org/)\n",
    "- [List of HTTP status codes](https://en.wikipedia.org/wiki/List_of_HTTP_status_codes)\n",
    "- [HTML basics](http://www.simplehtmlguide.com/cheatsheet.php)\n",
    "- [CSS basics](https://www.cssbasics.com/#page_start)"
   ]
  },
  {
   "cell_type": "markdown",
   "metadata": {},
   "source": [
    "#### Below are the libraries and modules you may need. `requests`,  `BeautifulSoup` and `pandas` are already imported for you. If you prefer to use additional libraries feel free to do it."
   ]
  },
  {
   "cell_type": "code",
   "execution_count": 1,
   "metadata": {},
   "outputs": [],
   "source": [
    "import requests\n",
    "from bs4 import BeautifulSoup\n",
    "import pandas as pd"
   ]
  },
  {
   "cell_type": "markdown",
   "metadata": {},
   "source": [
    "#### Download, parse (using BeautifulSoup), and print the content from the Trending Developers page from GitHub:"
   ]
  },
  {
   "cell_type": "code",
   "execution_count": 2,
   "metadata": {},
   "outputs": [],
   "source": [
    "# This is the url you will scrape in this exercise\n",
    "url = 'https://github.com/trending/developers'"
   ]
  },
  {
   "cell_type": "code",
   "execution_count": 3,
   "metadata": {},
   "outputs": [],
   "source": [
    "trending_developers_web = requests.get(url)\n",
    "soup = BeautifulSoup(trending_developers_web.content, 'html.parser')"
   ]
  },
  {
   "cell_type": "markdown",
   "metadata": {},
   "source": [
    "#### Display the names of the trending developers retrieved in the previous step.\n",
    "\n",
    "Your output should be a Python list of developer names. Each name should not contain any html tag.\n",
    "\n",
    "**Instructions:**\n",
    "\n",
    "1. Find out the html tag and class names used for the developer names. You can achieve this using Chrome DevTools.\n",
    "\n",
    "1. Use BeautifulSoup to extract all the html elements that contain the developer names.\n",
    "\n",
    "1. Use string manipulation techniques to replace whitespaces and linebreaks (i.e. `\\n`) in the *text* of each html element. Use a list to store the clean names.\n",
    "\n",
    "1. Print the list of names.\n",
    "\n",
    "Your output should look like below:\n",
    "\n",
    "```\n",
    "['trimstray (@trimstray)',\n",
    " 'joewalnes (JoeWalnes)',\n",
    " 'charlax (Charles-AxelDein)',\n",
    " 'ForrestKnight (ForrestKnight)',\n",
    " 'revery-ui (revery-ui)',\n",
    " 'alibaba (Alibaba)',\n",
    " 'Microsoft (Microsoft)',\n",
    " 'github (GitHub)',\n",
    " 'facebook (Facebook)',\n",
    " 'boazsegev (Bo)',\n",
    " 'google (Google)',\n",
    " 'cloudfetch',\n",
    " 'sindresorhus (SindreSorhus)',\n",
    " 'tensorflow',\n",
    " 'apache (TheApacheSoftwareFoundation)',\n",
    " 'DevonCrawford (DevonCrawford)',\n",
    " 'ARMmbed (ArmMbed)',\n",
    " 'vuejs (vuejs)',\n",
    " 'fastai (fast.ai)',\n",
    " 'QiShaoXuan (Qi)',\n",
    " 'joelparkerhenderson (JoelParkerHenderson)',\n",
    " 'torvalds (LinusTorvalds)',\n",
    " 'CyC2018',\n",
    " 'komeiji-satori (神楽坂覚々)',\n",
    " 'script-8']\n",
    " ```"
   ]
  },
  {
   "cell_type": "code",
   "execution_count": 11,
   "metadata": {},
   "outputs": [
    {
     "data": {
      "text/plain": [
       "[<h1 class=\"h3 lh-condensed\">\n",
       " <a data-hydro-click='{\"event_type\":\"explore.click\",\"payload\":{\"click_context\":\"TRENDING_DEVELOPERS_PAGE\",\"click_target\":\"OWNER\",\"click_visual_representation\":\"TRENDING_DEVELOPER\",\"actor_id\":null,\"record_id\":173661,\"originating_url\":\"https://github.com/trending/developers\",\"user_id\":null}}' data-hydro-click-hmac=\"e5f8b488975347353146deff5d76f57f9c5823c58166af008ff3dade354f7a3a\" href=\"/kripken\">\n",
       "             Alon Zakai\n",
       " </a>\n",
       " </h1>,\n",
       " <h1 class=\"h3 lh-condensed\">\n",
       " <a data-hydro-click='{\"event_type\":\"explore.click\",\"payload\":{\"click_context\":\"TRENDING_DEVELOPERS_PAGE\",\"click_target\":\"OWNER\",\"click_visual_representation\":\"TRENDING_DEVELOPER\",\"actor_id\":null,\"record_id\":315810,\"originating_url\":\"https://github.com/trending/developers\",\"user_id\":null}}' data-hydro-click-hmac=\"c81a11b5bf43ad60971bfc5a18424d8aaeca528db5eb02605a26b9306397843e\" href=\"/mwaskom\">\n",
       "             Michael Waskom\n",
       " </a>\n",
       " </h1>,\n",
       " <h1 class=\"h3 lh-condensed\">\n",
       " <a data-hydro-click='{\"event_type\":\"explore.click\",\"payload\":{\"click_context\":\"TRENDING_DEVELOPERS_PAGE\",\"click_target\":\"OWNER\",\"click_visual_representation\":\"TRENDING_DEVELOPER\",\"actor_id\":null,\"record_id\":524990,\"originating_url\":\"https://github.com/trending/developers\",\"user_id\":null}}' data-hydro-click-hmac=\"3b1bed455802a8356f9430112e4a81466277fb28aa61f3df52fab6cd020cfcb2\" href=\"/edenhill\">\n",
       "             Magnus Edenhill\n",
       " </a>\n",
       " </h1>,\n",
       " <h1 class=\"h3 lh-condensed\">\n",
       " <a data-hydro-click='{\"event_type\":\"explore.click\",\"payload\":{\"click_context\":\"TRENDING_DEVELOPERS_PAGE\",\"click_target\":\"OWNER\",\"click_visual_representation\":\"TRENDING_DEVELOPER\",\"actor_id\":null,\"record_id\":120051,\"originating_url\":\"https://github.com/trending/developers\",\"user_id\":null}}' data-hydro-click-hmac=\"82681511dfa7d4c2922ce09623f25a275e4704f5ed80e5e0091cfc6257187d1a\" href=\"/leodido\">\n",
       "             Leo Di Donato\n",
       " </a>\n",
       " </h1>,\n",
       " <h1 class=\"h3 lh-condensed\">\n",
       " <a data-hydro-click='{\"event_type\":\"explore.click\",\"payload\":{\"click_context\":\"TRENDING_DEVELOPERS_PAGE\",\"click_target\":\"OWNER\",\"click_visual_representation\":\"TRENDING_DEVELOPER\",\"actor_id\":null,\"record_id\":26408,\"originating_url\":\"https://github.com/trending/developers\",\"user_id\":null}}' data-hydro-click-hmac=\"1f96444e9ec9a59b5d4fdf25758be7e10b01dc9be3e7e41a9fbefec7142557d7\" href=\"/tafsiri\">\n",
       "             Yannick Assogba\n",
       " </a>\n",
       " </h1>,\n",
       " <h1 class=\"h3 lh-condensed\">\n",
       " <a data-hydro-click='{\"event_type\":\"explore.click\",\"payload\":{\"click_context\":\"TRENDING_DEVELOPERS_PAGE\",\"click_target\":\"OWNER\",\"click_visual_representation\":\"TRENDING_DEVELOPER\",\"actor_id\":null,\"record_id\":195327,\"originating_url\":\"https://github.com/trending/developers\",\"user_id\":null}}' data-hydro-click-hmac=\"555942f6cd3662c48ba480f22a7879a37d3e1a89beb3fa5d8221b0fd6c84b717\" href=\"/frenck\">\n",
       "             Franck Nijhof\n",
       " </a>\n",
       " </h1>,\n",
       " <h1 class=\"h3 lh-condensed\">\n",
       " <a data-hydro-click='{\"event_type\":\"explore.click\",\"payload\":{\"click_context\":\"TRENDING_DEVELOPERS_PAGE\",\"click_target\":\"OWNER\",\"click_visual_representation\":\"TRENDING_DEVELOPER\",\"actor_id\":null,\"record_id\":518289,\"originating_url\":\"https://github.com/trending/developers\",\"user_id\":null}}' data-hydro-click-hmac=\"c8ffa79be8dc9b3f6a30760afd6b578137f45cba8209a07e105313ab06e54103\" href=\"/hecrj\">\n",
       "             Héctor Ramón\n",
       " </a>\n",
       " </h1>,\n",
       " <h1 class=\"h3 lh-condensed\">\n",
       " <a data-hydro-click='{\"event_type\":\"explore.click\",\"payload\":{\"click_context\":\"TRENDING_DEVELOPERS_PAGE\",\"click_target\":\"OWNER\",\"click_visual_representation\":\"TRENDING_DEVELOPER\",\"actor_id\":null,\"record_id\":3442158,\"originating_url\":\"https://github.com/trending/developers\",\"user_id\":null}}' data-hydro-click-hmac=\"e5ef0fd1c039454f2977ae88ff62019467e8c3af152b30006db9778bc92130d2\" href=\"/damienbod\">\n",
       "             damienbod\n",
       " </a>\n",
       " </h1>,\n",
       " <h1 class=\"h3 lh-condensed\">\n",
       " <a data-hydro-click='{\"event_type\":\"explore.click\",\"payload\":{\"click_context\":\"TRENDING_DEVELOPERS_PAGE\",\"click_target\":\"OWNER\",\"click_visual_representation\":\"TRENDING_DEVELOPER\",\"actor_id\":null,\"record_id\":1476232,\"originating_url\":\"https://github.com/trending/developers\",\"user_id\":null}}' data-hydro-click-hmac=\"71e53398221152a0765a25b26c8d617b0d535d597aa7d921f12a7accd7436db8\" href=\"/mikepenz\">\n",
       "             Mike Penz\n",
       " </a>\n",
       " </h1>,\n",
       " <h1 class=\"h3 lh-condensed\">\n",
       " <a data-hydro-click='{\"event_type\":\"explore.click\",\"payload\":{\"click_context\":\"TRENDING_DEVELOPERS_PAGE\",\"click_target\":\"OWNER\",\"click_visual_representation\":\"TRENDING_DEVELOPER\",\"actor_id\":null,\"record_id\":591645,\"originating_url\":\"https://github.com/trending/developers\",\"user_id\":null}}' data-hydro-click-hmac=\"d4b9490acba7089be241293baef17a7a15bf8eccb82de3f1b5336f6a703d93c3\" href=\"/jtpio\">\n",
       "             Jeremy Tuloup\n",
       " </a>\n",
       " </h1>,\n",
       " <h1 class=\"h3 lh-condensed\">\n",
       " <a data-hydro-click='{\"event_type\":\"explore.click\",\"payload\":{\"click_context\":\"TRENDING_DEVELOPERS_PAGE\",\"click_target\":\"OWNER\",\"click_visual_representation\":\"TRENDING_DEVELOPER\",\"actor_id\":null,\"record_id\":731337,\"originating_url\":\"https://github.com/trending/developers\",\"user_id\":null}}' data-hydro-click-hmac=\"ec44518941b8fad5beab69e862b9c96a3f816e4070be28c346701070ca907f1b\" href=\"/christian-bromann\">\n",
       "             Christian Bromann\n",
       " </a>\n",
       " </h1>,\n",
       " <h1 class=\"h3 lh-condensed\">\n",
       " <a data-hydro-click='{\"event_type\":\"explore.click\",\"payload\":{\"click_context\":\"TRENDING_DEVELOPERS_PAGE\",\"click_target\":\"OWNER\",\"click_visual_representation\":\"TRENDING_DEVELOPER\",\"actor_id\":null,\"record_id\":14944147,\"originating_url\":\"https://github.com/trending/developers\",\"user_id\":null}}' data-hydro-click-hmac=\"3d90442c343a9fb0df4fc9e829f985fc08416319330ca624b7c901af0ebe43a2\" href=\"/SteveMacenski\">\n",
       "             Steve Macenski\n",
       " </a>\n",
       " </h1>,\n",
       " <h1 class=\"h3 lh-condensed\">\n",
       " <a data-hydro-click='{\"event_type\":\"explore.click\",\"payload\":{\"click_context\":\"TRENDING_DEVELOPERS_PAGE\",\"click_target\":\"OWNER\",\"click_visual_representation\":\"TRENDING_DEVELOPER\",\"actor_id\":null,\"record_id\":327203,\"originating_url\":\"https://github.com/trending/developers\",\"user_id\":null}}' data-hydro-click-hmac=\"fd4282a758335812a745d0e7b57155303d8a3a52bab5fee0d7807c05f79d662e\" href=\"/rougier\">\n",
       "             Nicolas P. Rougier\n",
       " </a>\n",
       " </h1>,\n",
       " <h1 class=\"h3 lh-condensed\">\n",
       " <a data-hydro-click='{\"event_type\":\"explore.click\",\"payload\":{\"click_context\":\"TRENDING_DEVELOPERS_PAGE\",\"click_target\":\"OWNER\",\"click_visual_representation\":\"TRENDING_DEVELOPER\",\"actor_id\":null,\"record_id\":84712,\"originating_url\":\"https://github.com/trending/developers\",\"user_id\":null}}' data-hydro-click-hmac=\"5984ef9e3666335fca4d6aef36e5463e588f82cd4b528652997da5bf9f3fd445\" href=\"/dagar\">\n",
       "             Daniel Agar\n",
       " </a>\n",
       " </h1>,\n",
       " <h1 class=\"h3 lh-condensed\">\n",
       " <a data-hydro-click='{\"event_type\":\"explore.click\",\"payload\":{\"click_context\":\"TRENDING_DEVELOPERS_PAGE\",\"click_target\":\"OWNER\",\"click_visual_representation\":\"TRENDING_DEVELOPER\",\"actor_id\":null,\"record_id\":20165741,\"originating_url\":\"https://github.com/trending/developers\",\"user_id\":null}}' data-hydro-click-hmac=\"234e29f509d9aae53cd954229008f6a4e5364aa24734b7e3f78e4db9a7ac0cbb\" href=\"/rrousselGit\">\n",
       "             Remi Rousselet\n",
       " </a>\n",
       " </h1>,\n",
       " <h1 class=\"h3 lh-condensed\">\n",
       " <a data-hydro-click='{\"event_type\":\"explore.click\",\"payload\":{\"click_context\":\"TRENDING_DEVELOPERS_PAGE\",\"click_target\":\"OWNER\",\"click_visual_representation\":\"TRENDING_DEVELOPER\",\"actor_id\":null,\"record_id\":408570,\"originating_url\":\"https://github.com/trending/developers\",\"user_id\":null}}' data-hydro-click-hmac=\"fcb0f62eaf71e80c4ad2913bcc986edef45ae82b731292a72291637816560982\" href=\"/sethvargo\">\n",
       "             Seth Vargo\n",
       " </a>\n",
       " </h1>,\n",
       " <h1 class=\"h3 lh-condensed\">\n",
       " <a data-hydro-click='{\"event_type\":\"explore.click\",\"payload\":{\"click_context\":\"TRENDING_DEVELOPERS_PAGE\",\"click_target\":\"OWNER\",\"click_visual_representation\":\"TRENDING_DEVELOPER\",\"actor_id\":null,\"record_id\":3068563,\"originating_url\":\"https://github.com/trending/developers\",\"user_id\":null}}' data-hydro-click-hmac=\"8f8039fd24d3b549f917521dd399f76821c5e197075b62de00ddf79702d62cec\" href=\"/diegohaz\">\n",
       "             Haz\n",
       " </a>\n",
       " </h1>,\n",
       " <h1 class=\"h3 lh-condensed\">\n",
       " <a data-hydro-click='{\"event_type\":\"explore.click\",\"payload\":{\"click_context\":\"TRENDING_DEVELOPERS_PAGE\",\"click_target\":\"OWNER\",\"click_visual_representation\":\"TRENDING_DEVELOPER\",\"actor_id\":null,\"record_id\":74385,\"originating_url\":\"https://github.com/trending/developers\",\"user_id\":null}}' data-hydro-click-hmac=\"5fc5eaddd9c7f22d74680045c2982183339f7577a987ac901cfd63c63b2729e9\" href=\"/rstacruz\">\n",
       "             Rico Sta. Cruz\n",
       " </a>\n",
       " </h1>,\n",
       " <h1 class=\"h3 lh-condensed\">\n",
       " <a data-hydro-click='{\"event_type\":\"explore.click\",\"payload\":{\"click_context\":\"TRENDING_DEVELOPERS_PAGE\",\"click_target\":\"OWNER\",\"click_visual_representation\":\"TRENDING_DEVELOPER\",\"actor_id\":null,\"record_id\":12670537,\"originating_url\":\"https://github.com/trending/developers\",\"user_id\":null}}' data-hydro-click-hmac=\"cc703f519e80d047f0102346e9478a3465b149afbfd0bf09adb7b87d92ed4ebe\" href=\"/klaussinani\">\n",
       "             Klaus Sinani\n",
       " </a>\n",
       " </h1>,\n",
       " <h1 class=\"h3 lh-condensed\">\n",
       " <a data-hydro-click='{\"event_type\":\"explore.click\",\"payload\":{\"click_context\":\"TRENDING_DEVELOPERS_PAGE\",\"click_target\":\"OWNER\",\"click_visual_representation\":\"TRENDING_DEVELOPER\",\"actor_id\":null,\"record_id\":2621,\"originating_url\":\"https://github.com/trending/developers\",\"user_id\":null}}' data-hydro-click-hmac=\"4172d0370ab8c49a9cd42d203952ef52f8dbfefff43e94f52075f5ba5a6bb9f3\" href=\"/bradfitz\">\n",
       "             Brad Fitzpatrick\n",
       " </a>\n",
       " </h1>,\n",
       " <h1 class=\"h3 lh-condensed\">\n",
       " <a data-hydro-click='{\"event_type\":\"explore.click\",\"payload\":{\"click_context\":\"TRENDING_DEVELOPERS_PAGE\",\"click_target\":\"OWNER\",\"click_visual_representation\":\"TRENDING_DEVELOPER\",\"actor_id\":null,\"record_id\":3956929,\"originating_url\":\"https://github.com/trending/developers\",\"user_id\":null}}' data-hydro-click-hmac=\"f6e093ed37987b2f498a603c05d5b9a72d214024a0493f39cf0a8e43a2d312c4\" href=\"/christianalfoni\">\n",
       "             Christian Alfoni\n",
       " </a>\n",
       " </h1>,\n",
       " <h1 class=\"h3 lh-condensed\">\n",
       " <a data-hydro-click='{\"event_type\":\"explore.click\",\"payload\":{\"click_context\":\"TRENDING_DEVELOPERS_PAGE\",\"click_target\":\"OWNER\",\"click_visual_representation\":\"TRENDING_DEVELOPER\",\"actor_id\":null,\"record_id\":11512,\"originating_url\":\"https://github.com/trending/developers\",\"user_id\":null}}' data-hydro-click-hmac=\"b0b21a438dc66c7075ab29ef391ba811dabc446b37ae7401f3a680e7d9f9b90a\" href=\"/AlekSi\">\n",
       "             Alexey Palazhchenko\n",
       " </a>\n",
       " </h1>,\n",
       " <h1 class=\"h3 lh-condensed\">\n",
       " <a data-hydro-click='{\"event_type\":\"explore.click\",\"payload\":{\"click_context\":\"TRENDING_DEVELOPERS_PAGE\",\"click_target\":\"OWNER\",\"click_visual_representation\":\"TRENDING_DEVELOPER\",\"actor_id\":null,\"record_id\":1402241,\"originating_url\":\"https://github.com/trending/developers\",\"user_id\":null}}' data-hydro-click-hmac=\"b908bb412689d9cc63d7ca93c954409d9124bb820ab86eeb675044b9363637de\" href=\"/fregante\">\n",
       "             Fregante\n",
       " </a>\n",
       " </h1>,\n",
       " <h1 class=\"h3 lh-condensed\">\n",
       " <a data-hydro-click='{\"event_type\":\"explore.click\",\"payload\":{\"click_context\":\"TRENDING_DEVELOPERS_PAGE\",\"click_target\":\"OWNER\",\"click_visual_representation\":\"TRENDING_DEVELOPER\",\"actor_id\":null,\"record_id\":57224,\"originating_url\":\"https://github.com/trending/developers\",\"user_id\":null}}' data-hydro-click-hmac=\"b6a2bd8ffc25d80fa7c4d15e62bf25361f83a312f6a0dc4a2f1ea6e3cd0b77ad\" href=\"/dunglas\">\n",
       "             Kévin Dunglas\n",
       " </a>\n",
       " </h1>,\n",
       " <h1 class=\"h3 lh-condensed\">\n",
       " <a data-hydro-click='{\"event_type\":\"explore.click\",\"payload\":{\"click_context\":\"TRENDING_DEVELOPERS_PAGE\",\"click_target\":\"OWNER\",\"click_visual_representation\":\"TRENDING_DEVELOPER\",\"actor_id\":null,\"record_id\":1327285,\"originating_url\":\"https://github.com/trending/developers\",\"user_id\":null}}' data-hydro-click-hmac=\"7660bceee24bb2df2206ece8214b5216922bf757d2ad44abc572a8ac746c5f48\" href=\"/rylev\">\n",
       "             Ryan Levick\n",
       " </a>\n",
       " </h1>]"
      ]
     },
     "execution_count": 11,
     "metadata": {},
     "output_type": "execute_result"
    }
   ],
   "source": [
    "table = soup.find_all(class_='h3 lh-condensed')\n",
    "table[0].a.text"
   ]
  },
  {
   "cell_type": "code",
   "execution_count": 35,
   "metadata": {},
   "outputs": [],
   "source": [
    "developers = list(map(lambda x: x.a.text, table))"
   ]
  },
  {
   "cell_type": "code",
   "execution_count": 36,
   "metadata": {},
   "outputs": [],
   "source": [
    "trending_developers = list(map(lambda x: x.strip(\"\\n\").strip(), developers ))"
   ]
  },
  {
   "cell_type": "code",
   "execution_count": 38,
   "metadata": {},
   "outputs": [
    {
     "data": {
      "text/plain": [
       "['Alon Zakai',\n",
       " 'Michael Waskom',\n",
       " 'Magnus Edenhill',\n",
       " 'Leo Di Donato',\n",
       " 'Yannick Assogba',\n",
       " 'Franck Nijhof',\n",
       " 'Héctor Ramón',\n",
       " 'damienbod',\n",
       " 'Mike Penz',\n",
       " 'Jeremy Tuloup',\n",
       " 'Christian Bromann',\n",
       " 'Steve Macenski',\n",
       " 'Nicolas P. Rougier',\n",
       " 'Daniel Agar',\n",
       " 'Remi Rousselet',\n",
       " 'Seth Vargo',\n",
       " 'Haz',\n",
       " 'Rico Sta. Cruz',\n",
       " 'Klaus Sinani',\n",
       " 'Brad Fitzpatrick',\n",
       " 'Christian Alfoni',\n",
       " 'Alexey Palazhchenko',\n",
       " 'Fregante',\n",
       " 'Kévin Dunglas',\n",
       " 'Ryan Levick']"
      ]
     },
     "execution_count": 38,
     "metadata": {},
     "output_type": "execute_result"
    }
   ],
   "source": [
    "trending_developers"
   ]
  },
  {
   "cell_type": "markdown",
   "metadata": {},
   "source": [
    "#### Display the trending Python repositories in GitHub.\n",
    "\n",
    "The steps to solve this problem is similar to the previous one except that you need to find out the repository names instead of developer names."
   ]
  },
  {
   "cell_type": "code",
   "execution_count": 39,
   "metadata": {},
   "outputs": [],
   "source": [
    "# This is the url you will scrape in this exercise\n",
    "url = 'https://github.com/trending/python?since=daily'"
   ]
  },
  {
   "cell_type": "code",
   "execution_count": 40,
   "metadata": {},
   "outputs": [],
   "source": [
    "repository_web = requests.get(url)\n",
    "soup = BeautifulSoup(repository_web.content, 'html.parser')"
   ]
  },
  {
   "cell_type": "code",
   "execution_count": 41,
   "metadata": {},
   "outputs": [
    {
     "data": {
      "text/plain": [
       "'\\n\\n\\n        google /\\n\\n\\n\\n      skywater-pdk\\n'"
      ]
     },
     "execution_count": 41,
     "metadata": {},
     "output_type": "execute_result"
    }
   ],
   "source": [
    "table = soup.find_all(class_='h3 lh-condensed')\n",
    "table[0].a.text"
   ]
  },
  {
   "cell_type": "code",
   "execution_count": 42,
   "metadata": {},
   "outputs": [],
   "source": [
    "repository = list(map(lambda x: x.a.text, table))"
   ]
  },
  {
   "cell_type": "code",
   "execution_count": 48,
   "metadata": {},
   "outputs": [
    {
     "data": {
      "text/plain": [
       "['\\n\\n\\n        google /\\n\\n\\n\\n      skywater-pdk\\n',\n",
       " '\\n\\n\\n        JaidedAI /\\n\\n\\n\\n      EasyOCR\\n',\n",
       " '\\n\\n\\n        521xueweihan /\\n\\n\\n\\n      HelloGitHub\\n',\n",
       " '\\n\\n\\n        Z4nzu /\\n\\n\\n\\n      hackingtool\\n',\n",
       " '\\n\\n\\n        bitcoinbook /\\n\\n\\n\\n      bitcoinbook\\n',\n",
       " '\\n\\n\\n        facebookresearch /\\n\\n\\n\\n      TaBERT\\n',\n",
       " '\\n\\n\\n        fbdesignpro /\\n\\n\\n\\n      sweetviz\\n',\n",
       " '\\n\\n\\n        TheAlgorithms /\\n\\n\\n\\n      Python\\n',\n",
       " '\\n\\n\\n        jbesomi /\\n\\n\\n\\n      texthero\\n',\n",
       " '\\n\\n\\n        iterative /\\n\\n\\n\\n      dvc\\n',\n",
       " '\\n\\n\\n        shuup /\\n\\n\\n\\n      shuup\\n',\n",
       " '\\n\\n\\n        spack /\\n\\n\\n\\n      spack\\n',\n",
       " '\\n\\n\\n        matplotlib /\\n\\n\\n\\n      matplotlib\\n',\n",
       " '\\n\\n\\n        brython-dev /\\n\\n\\n\\n      brython\\n',\n",
       " '\\n\\n\\n        d2l-ai /\\n\\n\\n\\n      d2l-en\\n',\n",
       " '\\n\\n\\n        willmcgugan /\\n\\n\\n\\n      rich\\n',\n",
       " '\\n\\n\\n        jerry-git /\\n\\n\\n\\n      learn-python3\\n',\n",
       " '\\n\\n\\n        matplotlib /\\n\\n\\n\\n      cheatsheets\\n',\n",
       " '\\n\\n\\n        binaryai /\\n\\n\\n\\n      sdk\\n',\n",
       " '\\n\\n\\n        huggingface /\\n\\n\\n\\n      nlp\\n',\n",
       " '\\n\\n\\n        josephmisiti /\\n\\n\\n\\n      awesome-machine-learning\\n',\n",
       " '\\n\\n\\n        olixu /\\n\\n\\n\\n      cloudflare-ip-ping\\n',\n",
       " '\\n\\n\\n        learnbyexample /\\n\\n\\n\\n      py_regular_expressions\\n',\n",
       " '\\n\\n\\n        Asabeneh /\\n\\n\\n\\n      30-Days-Of-Python\\n',\n",
       " '\\n\\n\\n        SimonShi1994 /\\n\\n\\n\\n      Princess-connection-farm\\n']"
      ]
     },
     "execution_count": 48,
     "metadata": {},
     "output_type": "execute_result"
    }
   ],
   "source": [
    "repository"
   ]
  },
  {
   "cell_type": "code",
   "execution_count": 56,
   "metadata": {},
   "outputs": [],
   "source": [
    "repo_developers = list(map(lambda x: x.strip(\"\\n\").strip(), repository ))"
   ]
  },
  {
   "cell_type": "code",
   "execution_count": 57,
   "metadata": {},
   "outputs": [
    {
     "data": {
      "text/plain": [
       "['google /\\n\\n\\n\\n      skywater-pdk',\n",
       " 'JaidedAI /\\n\\n\\n\\n      EasyOCR',\n",
       " '521xueweihan /\\n\\n\\n\\n      HelloGitHub',\n",
       " 'Z4nzu /\\n\\n\\n\\n      hackingtool',\n",
       " 'bitcoinbook /\\n\\n\\n\\n      bitcoinbook',\n",
       " 'facebookresearch /\\n\\n\\n\\n      TaBERT',\n",
       " 'fbdesignpro /\\n\\n\\n\\n      sweetviz',\n",
       " 'TheAlgorithms /\\n\\n\\n\\n      Python',\n",
       " 'jbesomi /\\n\\n\\n\\n      texthero',\n",
       " 'iterative /\\n\\n\\n\\n      dvc',\n",
       " 'shuup /\\n\\n\\n\\n      shuup',\n",
       " 'spack /\\n\\n\\n\\n      spack',\n",
       " 'matplotlib /\\n\\n\\n\\n      matplotlib',\n",
       " 'brython-dev /\\n\\n\\n\\n      brython',\n",
       " 'd2l-ai /\\n\\n\\n\\n      d2l-en',\n",
       " 'willmcgugan /\\n\\n\\n\\n      rich',\n",
       " 'jerry-git /\\n\\n\\n\\n      learn-python3',\n",
       " 'matplotlib /\\n\\n\\n\\n      cheatsheets',\n",
       " 'binaryai /\\n\\n\\n\\n      sdk',\n",
       " 'huggingface /\\n\\n\\n\\n      nlp',\n",
       " 'josephmisiti /\\n\\n\\n\\n      awesome-machine-learning',\n",
       " 'olixu /\\n\\n\\n\\n      cloudflare-ip-ping',\n",
       " 'learnbyexample /\\n\\n\\n\\n      py_regular_expressions',\n",
       " 'Asabeneh /\\n\\n\\n\\n      30-Days-Of-Python',\n",
       " 'SimonShi1994 /\\n\\n\\n\\n      Princess-connection-farm']"
      ]
     },
     "execution_count": 57,
     "metadata": {},
     "output_type": "execute_result"
    }
   ],
   "source": [
    "repo_developers"
   ]
  },
  {
   "cell_type": "code",
   "execution_count": 76,
   "metadata": {},
   "outputs": [],
   "source": [
    "developers_repository = list(map(lambda x: x.replace(\"\\n\", \"\").replace(\" \", \"\"), repo_developers))"
   ]
  },
  {
   "cell_type": "code",
   "execution_count": 77,
   "metadata": {},
   "outputs": [
    {
     "data": {
      "text/plain": [
       "['google/skywater-pdk',\n",
       " 'JaidedAI/EasyOCR',\n",
       " '521xueweihan/HelloGitHub',\n",
       " 'Z4nzu/hackingtool',\n",
       " 'bitcoinbook/bitcoinbook',\n",
       " 'facebookresearch/TaBERT',\n",
       " 'fbdesignpro/sweetviz',\n",
       " 'TheAlgorithms/Python',\n",
       " 'jbesomi/texthero',\n",
       " 'iterative/dvc',\n",
       " 'shuup/shuup',\n",
       " 'spack/spack',\n",
       " 'matplotlib/matplotlib',\n",
       " 'brython-dev/brython',\n",
       " 'd2l-ai/d2l-en',\n",
       " 'willmcgugan/rich',\n",
       " 'jerry-git/learn-python3',\n",
       " 'matplotlib/cheatsheets',\n",
       " 'binaryai/sdk',\n",
       " 'huggingface/nlp',\n",
       " 'josephmisiti/awesome-machine-learning',\n",
       " 'olixu/cloudflare-ip-ping',\n",
       " 'learnbyexample/py_regular_expressions',\n",
       " 'Asabeneh/30-Days-Of-Python',\n",
       " 'SimonShi1994/Princess-connection-farm']"
      ]
     },
     "execution_count": 77,
     "metadata": {},
     "output_type": "execute_result"
    }
   ],
   "source": [
    "developers_repository"
   ]
  },
  {
   "cell_type": "code",
   "execution_count": null,
   "metadata": {},
   "outputs": [],
   "source": []
  },
  {
   "cell_type": "code",
   "execution_count": 63,
   "metadata": {},
   "outputs": [],
   "source": [
    "repo_final= []\n",
    "\n",
    "for repo in repo_developers:\n",
    "    if (repo != '\\n'):\n",
    "        repo_final.append(repo)"
   ]
  },
  {
   "cell_type": "code",
   "execution_count": 64,
   "metadata": {},
   "outputs": [
    {
     "data": {
      "text/plain": [
       "['google /\\n\\n\\n\\n      skywater-pdk',\n",
       " 'JaidedAI /\\n\\n\\n\\n      EasyOCR',\n",
       " '521xueweihan /\\n\\n\\n\\n      HelloGitHub',\n",
       " 'Z4nzu /\\n\\n\\n\\n      hackingtool',\n",
       " 'bitcoinbook /\\n\\n\\n\\n      bitcoinbook',\n",
       " 'facebookresearch /\\n\\n\\n\\n      TaBERT',\n",
       " 'fbdesignpro /\\n\\n\\n\\n      sweetviz',\n",
       " 'TheAlgorithms /\\n\\n\\n\\n      Python',\n",
       " 'jbesomi /\\n\\n\\n\\n      texthero',\n",
       " 'iterative /\\n\\n\\n\\n      dvc',\n",
       " 'shuup /\\n\\n\\n\\n      shuup',\n",
       " 'spack /\\n\\n\\n\\n      spack',\n",
       " 'matplotlib /\\n\\n\\n\\n      matplotlib',\n",
       " 'brython-dev /\\n\\n\\n\\n      brython',\n",
       " 'd2l-ai /\\n\\n\\n\\n      d2l-en',\n",
       " 'willmcgugan /\\n\\n\\n\\n      rich',\n",
       " 'jerry-git /\\n\\n\\n\\n      learn-python3',\n",
       " 'matplotlib /\\n\\n\\n\\n      cheatsheets',\n",
       " 'binaryai /\\n\\n\\n\\n      sdk',\n",
       " 'huggingface /\\n\\n\\n\\n      nlp',\n",
       " 'josephmisiti /\\n\\n\\n\\n      awesome-machine-learning',\n",
       " 'olixu /\\n\\n\\n\\n      cloudflare-ip-ping',\n",
       " 'learnbyexample /\\n\\n\\n\\n      py_regular_expressions',\n",
       " 'Asabeneh /\\n\\n\\n\\n      30-Days-Of-Python',\n",
       " 'SimonShi1994 /\\n\\n\\n\\n      Princess-connection-farm']"
      ]
     },
     "execution_count": 64,
     "metadata": {},
     "output_type": "execute_result"
    }
   ],
   "source": [
    "repo_final"
   ]
  },
  {
   "cell_type": "markdown",
   "metadata": {},
   "source": [
    "#### Display all the image links from Walt Disney wikipedia page."
   ]
  },
  {
   "cell_type": "code",
   "execution_count": null,
   "metadata": {},
   "outputs": [],
   "source": [
    "# This is the url you will scrape in this exercise\n",
    "url = 'https://en.wikipedia.org/wiki/Walt_Disney'"
   ]
  },
  {
   "cell_type": "code",
   "execution_count": null,
   "metadata": {},
   "outputs": [],
   "source": [
    "# your code here"
   ]
  },
  {
   "cell_type": "markdown",
   "metadata": {},
   "source": [
    "#### Retrieve an arbitary Wikipedia page of \"Python\" and create a list of links on that page."
   ]
  },
  {
   "cell_type": "code",
   "execution_count": null,
   "metadata": {},
   "outputs": [],
   "source": [
    "# This is the url you will scrape in this exercise\n",
    "url ='https://en.wikipedia.org/wiki/Python' "
   ]
  },
  {
   "cell_type": "code",
   "execution_count": null,
   "metadata": {},
   "outputs": [],
   "source": [
    "# your code here"
   ]
  },
  {
   "cell_type": "markdown",
   "metadata": {},
   "source": [
    "#### Find the number of titles that have changed in the United States Code since its last release point."
   ]
  },
  {
   "cell_type": "code",
   "execution_count": null,
   "metadata": {},
   "outputs": [],
   "source": [
    "# This is the url you will scrape in this exercise\n",
    "url = 'http://uscode.house.gov/download/download.shtml'"
   ]
  },
  {
   "cell_type": "code",
   "execution_count": null,
   "metadata": {},
   "outputs": [],
   "source": [
    "# your code here"
   ]
  },
  {
   "cell_type": "markdown",
   "metadata": {},
   "source": [
    "#### Find a Python list with the top ten FBI's Most Wanted names."
   ]
  },
  {
   "cell_type": "code",
   "execution_count": null,
   "metadata": {},
   "outputs": [],
   "source": [
    "# This is the url you will scrape in this exercise\n",
    "url = 'https://www.fbi.gov/wanted/topten'"
   ]
  },
  {
   "cell_type": "code",
   "execution_count": null,
   "metadata": {},
   "outputs": [],
   "source": [
    "# your code here"
   ]
  },
  {
   "cell_type": "markdown",
   "metadata": {},
   "source": [
    "####  Display the 20 latest earthquakes info (date, time, latitude, longitude and region name) by the EMSC as a pandas dataframe."
   ]
  },
  {
   "cell_type": "code",
   "execution_count": null,
   "metadata": {},
   "outputs": [],
   "source": [
    "# This is the url you will scrape in this exercise\n",
    "url = 'https://www.emsc-csem.org/Earthquake/'"
   ]
  },
  {
   "cell_type": "code",
   "execution_count": null,
   "metadata": {},
   "outputs": [],
   "source": [
    "# your code here"
   ]
  },
  {
   "cell_type": "markdown",
   "metadata": {},
   "source": [
    "#### Count the number of tweets by a given Twitter account.\n",
    "Ask the user for the handle (@handle) of a twitter account. You will need to include a ***try/except block*** for account names not found. \n",
    "<br>***Hint:*** the program should count the number of tweets for any provided account."
   ]
  },
  {
   "cell_type": "code",
   "execution_count": null,
   "metadata": {},
   "outputs": [],
   "source": [
    "# This is the url you will scrape in this exercise \n",
    "# You will need to add the account credentials to this url\n",
    "url = 'https://twitter.com/'"
   ]
  },
  {
   "cell_type": "code",
   "execution_count": null,
   "metadata": {},
   "outputs": [],
   "source": [
    "# your code here"
   ]
  },
  {
   "cell_type": "markdown",
   "metadata": {},
   "source": [
    "#### Number of followers of a given twitter account\n",
    "Ask the user for the handle (@handle) of a twitter account. You will need to include a ***try/except block*** for account names not found. \n",
    "<br>***Hint:*** the program should count the followers for any provided account."
   ]
  },
  {
   "cell_type": "code",
   "execution_count": null,
   "metadata": {},
   "outputs": [],
   "source": [
    "# This is the url you will scrape in this exercise \n",
    "# You will need to add the account credentials to this url\n",
    "url = 'https://twitter.com/'"
   ]
  },
  {
   "cell_type": "code",
   "execution_count": null,
   "metadata": {},
   "outputs": [],
   "source": [
    "# your code here"
   ]
  },
  {
   "cell_type": "markdown",
   "metadata": {},
   "source": [
    "#### List all language names and number of related articles in the order they appear in wikipedia.org."
   ]
  },
  {
   "cell_type": "code",
   "execution_count": null,
   "metadata": {},
   "outputs": [],
   "source": [
    "# This is the url you will scrape in this exercise\n",
    "url = 'https://www.wikipedia.org/'"
   ]
  },
  {
   "cell_type": "code",
   "execution_count": null,
   "metadata": {},
   "outputs": [],
   "source": [
    "# your code here"
   ]
  },
  {
   "cell_type": "markdown",
   "metadata": {},
   "source": [
    "#### A list with the different kind of datasets available in data.gov.uk."
   ]
  },
  {
   "cell_type": "code",
   "execution_count": null,
   "metadata": {},
   "outputs": [],
   "source": [
    "# This is the url you will scrape in this exercise\n",
    "url = 'https://data.gov.uk/'"
   ]
  },
  {
   "cell_type": "code",
   "execution_count": null,
   "metadata": {},
   "outputs": [],
   "source": [
    "# your code here"
   ]
  },
  {
   "cell_type": "markdown",
   "metadata": {},
   "source": [
    "#### Display the top 10 languages by number of native speakers stored in a pandas dataframe."
   ]
  },
  {
   "cell_type": "code",
   "execution_count": null,
   "metadata": {},
   "outputs": [],
   "source": [
    "# This is the url you will scrape in this exercise\n",
    "url = 'https://en.wikipedia.org/wiki/List_of_languages_by_number_of_native_speakers'"
   ]
  },
  {
   "cell_type": "code",
   "execution_count": null,
   "metadata": {},
   "outputs": [],
   "source": [
    "# your code here"
   ]
  },
  {
   "cell_type": "markdown",
   "metadata": {},
   "source": [
    "## Bonus\n",
    "#### Scrape a certain number of tweets of a given Twitter account."
   ]
  },
  {
   "cell_type": "code",
   "execution_count": null,
   "metadata": {},
   "outputs": [],
   "source": [
    "# This is the url you will scrape in this exercise \n",
    "# You will need to add the account credentials to this url\n",
    "url = 'https://twitter.com/'"
   ]
  },
  {
   "cell_type": "code",
   "execution_count": null,
   "metadata": {},
   "outputs": [],
   "source": [
    "# your code here"
   ]
  },
  {
   "cell_type": "markdown",
   "metadata": {},
   "source": [
    "#### Display IMDB's top 250 data (movie name, initial release, director name and stars) as a pandas dataframe."
   ]
  },
  {
   "cell_type": "code",
   "execution_count": null,
   "metadata": {},
   "outputs": [],
   "source": [
    "# This is the url you will scrape in this exercise \n",
    "url = 'https://www.imdb.com/chart/top'"
   ]
  },
  {
   "cell_type": "code",
   "execution_count": null,
   "metadata": {},
   "outputs": [],
   "source": [
    "# your code here"
   ]
  },
  {
   "cell_type": "markdown",
   "metadata": {},
   "source": [
    "#### Display the movie name, year and a brief summary of the top 10 random movies (IMDB) as a pandas dataframe."
   ]
  },
  {
   "cell_type": "code",
   "execution_count": null,
   "metadata": {},
   "outputs": [],
   "source": [
    "#This is the url you will scrape in this exercise\n",
    "url = 'http://www.imdb.com/chart/top'"
   ]
  },
  {
   "cell_type": "code",
   "execution_count": null,
   "metadata": {},
   "outputs": [],
   "source": [
    "# your code here"
   ]
  },
  {
   "cell_type": "markdown",
   "metadata": {},
   "source": [
    "#### Find the live weather report (temperature, wind speed, description and weather) of a given city."
   ]
  },
  {
   "cell_type": "code",
   "execution_count": null,
   "metadata": {},
   "outputs": [],
   "source": [
    "#https://openweathermap.org/current\n",
    "city = input('Enter the city: ')\n",
    "url = 'http://api.openweathermap.org/data/2.5/weather?'+'q='+city+'&APPID=b35975e18dc93725acb092f7272cc6b8&units=metric'"
   ]
  },
  {
   "cell_type": "code",
   "execution_count": null,
   "metadata": {},
   "outputs": [],
   "source": [
    "# your code here"
   ]
  },
  {
   "cell_type": "markdown",
   "metadata": {},
   "source": [
    "#### Find the book name, price and stock availability as a pandas dataframe."
   ]
  },
  {
   "cell_type": "code",
   "execution_count": null,
   "metadata": {},
   "outputs": [],
   "source": [
    "# This is the url you will scrape in this exercise. \n",
    "# It is a fictional bookstore created to be scraped. \n",
    "url = 'http://books.toscrape.com/'"
   ]
  },
  {
   "cell_type": "code",
   "execution_count": null,
   "metadata": {},
   "outputs": [],
   "source": [
    "# your code here"
   ]
  }
 ],
 "metadata": {
  "kernelspec": {
   "display_name": "Python [conda env:ironhack_data]",
   "language": "python",
   "name": "conda-env-ironhack_data-py"
  },
  "language_info": {
   "codemirror_mode": {
    "name": "ipython",
    "version": 3
   },
   "file_extension": ".py",
   "mimetype": "text/x-python",
   "name": "python",
   "nbconvert_exporter": "python",
   "pygments_lexer": "ipython3",
   "version": "3.7.7"
  }
 },
 "nbformat": 4,
 "nbformat_minor": 2
}
